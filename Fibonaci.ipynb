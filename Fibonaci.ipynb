{
 "cells": [
  {
   "cell_type": "code",
   "execution_count": 1,
   "metadata": {},
   "outputs": [
    {
     "name": "stdout",
     "output_type": "stream",
     "text": [
      "[0, 1, 1, 2, 3, 5, 8, 13, 21, 34, 55, 89, 144, 233, 377, 610, 987, 1597, 2584, 4181, 6765, 10946, 17711, 28657, 46368, 75025, 121393, 196418, 317811, 514229]\n"
     ]
    }
   ],
   "source": [
    "# Definir una función que tome un entero positivo n como argumento\n",
    "def fibonacci(n):\n",
    "  # Crear una lista vacía para almacenar números de Fibonacci\n",
    "  fib_list = []\n",
    "  # Inicializar los primeros dos números en la secuencia a 0 y 1\n",
    "  a = 0\n",
    "  b = 1\n",
    "  # Use un bucle while para generar números de Fibonacci hasta que la longitud de la lista sea n\n",
    "  while len(fib_list) < n:\n",
    "    # Añadir el número actual a la lista\n",
    "    fib_list.append(a)\n",
    "# Calcula el próximo número sumando los dos números anteriores\n",
    "    c = a + b\n",
    "    # Actualizar los valores de a y b\n",
    "    a = b\n",
    "    b = c\n",
    "  # Devuelve la lista de números de Fibonacci\n",
    "  return fib_list\n",
    "\n",
    "\n",
    "print(fibonacci(30))\n",
    "  "
   ]
  }
 ],
 "metadata": {
  "kernelspec": {
   "display_name": "XEROX",
   "language": "python",
   "name": "python3"
  },
  "language_info": {
   "codemirror_mode": {
    "name": "ipython",
    "version": 3
   },
   "file_extension": ".py",
   "mimetype": "text/x-python",
   "name": "python",
   "nbconvert_exporter": "python",
   "pygments_lexer": "ipython3",
   "version": "3.11.0"
  },
  "orig_nbformat": 4,
  "vscode": {
   "interpreter": {
    "hash": "7f1a72cc2acd31cacc113f4ce189e37751cba44822238e170ec61e54583c66f1"
   }
  }
 },
 "nbformat": 4,
 "nbformat_minor": 2
}
