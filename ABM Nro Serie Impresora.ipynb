{
 "cells": [
  {
   "attachments": {},
   "cell_type": "markdown",
   "metadata": {},
   "source": [
    "Ejemplo de ABM para la tabla Nro de Serie - Impresoras"
   ]
  },
  {
   "cell_type": "code",
   "execution_count": 1,
   "metadata": {},
   "outputs": [],
   "source": [
    "#Python Code\n",
    "import pyodbc \n",
    "# OPEN \n",
    "#establish database connection\n",
    "conn = pyodbc.connect('Driver={SQL Server};'\n",
    "                      'Server=SURUBI037;'\n",
    "                      'Database=GTIC;'\n",
    "                      'Trusted_Connection=yes;')\n",
    "  \n",
    "# cursor  \n",
    "cursor = conn.cursor() \n"
   ]
  },
  {
   "cell_type": "code",
   "execution_count": 9,
   "metadata": {},
   "outputs": [
    {
     "name": "stdout",
     "output_type": "stream",
     "text": [
      "Arrancamos con el Proceso\n",
      "plataforma de ejecuión:  windows\n",
      "EXITO - Conectado a la BD SQL SERVER\n",
      "Matriz Orignal (194, 4)\n",
      "   OBLEA            IP MODELO  PROCESAR\n",
      "0   D125   128.0.13.69   D125     False\n",
      "1  P0001   128.30.13.4   3615      True\n",
      "2  P0002   128.75.13.2   3615      True\n",
      "3  P0003   128.74.13.2   B405      True\n",
      "4  P0004  128.43.13.14   3615      True\n",
      "5  P0005  128.0.13.121   3615      True\n",
      "6  P0006   128.24.13.2   B405      True\n",
      "7  P0007             0      0     False\n",
      "8  P0008  128.20.13.19   3615      True\n",
      "9  P0009  128.0.13.167   3615      True\n"
     ]
    },
    {
     "name": "stderr",
     "output_type": "stream",
     "text": [
      "C:\\Users\\eettlin.ENERGIAER\\AppData\\Local\\Temp\\ipykernel_17004\\687188874.py:24: UserWarning: pandas only supports SQLAlchemy connectable (engine/connection) or database string URI or sqlite3 DBAPI2 connection. Other DBAPI2 objects are not tested. Please consider using SQLAlchemy.\n",
      "  data = pd.read_sql_query(\"SELECT [Oblea] as OBLEA ,[DireccionIP] as IP,[ModeloID] as MODELO , [Procesar] as PROCESAR FROM xrx_impresoras\", conn)\n"
     ]
    }
   ],
   "source": [
    "import pandas as pd\n",
    "import platform\n",
    "\n",
    "# RUTINA INICIAL\n",
    "#Rutina de Preparación\n",
    "print (\"Arrancamos con el Proceso\")\n",
    "print('plataforma de ejecuión: ', platform.system().lower())  # Verificar plataforma ejecución\n",
    "\n",
    "# Carga del archivo de impresoras en una matriz (ADECUAR A LA MAQUINA DE EJECUCIÓN)\n",
    "\n",
    "# OPEN \n",
    "#establish database connection\n",
    "\n",
    "try:\n",
    "    conn = pyodbc.connect('Driver={SQL Server};'\n",
    "                      'Server=SURUBI037;'\n",
    "                      'Database=GTIC;'\n",
    "                      'Trusted_Connection=yes;')\n",
    "                      # cursor  \n",
    "    #cursor = conn.cursor()\n",
    "    #cursor.execute(\"SELECT [Oblea],[DireccionIP],[ModeloID], [Procesar] FROM xrx_impresoras\")\n",
    "    #records = cursor.fetchall() \n",
    "    print('EXITO - Conectado a la BD SQL SERVER') \n",
    "    data = pd.read_sql_query(\"SELECT [Oblea] as OBLEA ,[DireccionIP] as IP,[ModeloID] as MODELO , [Procesar] as PROCESAR FROM xrx_impresoras\", conn)      \n",
    "\n",
    "except:\n",
    "    print('Error al tratar de conectarse - Se utiliza archivo local')\n",
    "    os.chdir('C:/Users/eettlin.ENERGIAER/Downloads')\n",
    "    os.getcwd()\n",
    "    filename = 'Impresoras.csv'\n",
    "    data = pd.read_csv(filename, sep=';', header=0)\n",
    "  \n",
    "\n",
    "\n",
    "\n",
    "print('Matriz Orignal' , data.shape)\n",
    "print (data.head(10))\n"
   ]
  },
  {
   "cell_type": "code",
   "execution_count": 6,
   "metadata": {},
   "outputs": [
    {
     "name": "stdout",
     "output_type": "stream",
     "text": [
      "---- CAMPO -----\n",
      "D125 128.0.13.69 D125 False\n",
      "P0001 128.30.13.4 3615 True\n",
      "P0002 128.75.13.2 3615 True\n",
      "P0003 128.74.13.2 B405 True\n",
      "P0004 128.43.13.14 3615 True\n",
      "P0005 128.0.13.121 3615 True\n",
      "P0006 128.24.13.2 B405 True\n",
      "P0007 0 0 False\n",
      "P0008 128.20.13.19 3615 True\n",
      "P0009 128.0.13.167 3615 True\n"
     ]
    }
   ],
   "source": [
    "# READ \n",
    "#cursor.execute('SELECT * FROM XRX_Impresoras') \n",
    "\n",
    "# Function to view all records\n",
    "def view_all_records():\n",
    "    with conn:\n",
    "        cursor.execute(\"SELECT * FROM xrx_impresoras\")\n",
    "        records = cursor.fetchall()        \n",
    "        return records\n",
    "\n",
    "def view_next_record():\n",
    "    with conn:\n",
    "        cursor.execute(\"SELECT * FROM xrx_impresoras\")\n",
    "        record = cursor.fetchone()        \n",
    "        return record\n",
    "\n",
    "cursor.execute(\"SELECT TOP (10) * FROM xrx_impresoras\")\n",
    "record = cursor.fetchone() \n",
    "\n",
    "#Imprimier todo el Registro\n",
    "#while record:\n",
    "#    print(record)\n",
    "#    record = cursor.fetchone() \n",
    "\n",
    "print(\"---- CAMPO -----\")\n",
    "cursor.execute(\"SELECT TOP (10) [Oblea],[DireccionIP],[ModeloID], [Procesar]  FROM xrx_impresoras\")\n",
    "record = cursor.fetchone() \n",
    "\n",
    "#Imprimier el 4to campo\n",
    "while record:\n",
    "    print(record[0], record[1], record[2], record[3])\n",
    "    record = cursor.fetchone() \n",
    "\n",
    "\n"
   ]
  },
  {
   "cell_type": "code",
   "execution_count": null,
   "metadata": {},
   "outputs": [],
   "source": [
    "# UPDATE \n",
    "#cursor.execute(\"UPDATE XRX_Impresoras SET ResponsableEquipo='Juan Perez' WHERE Oblea='12345'\") \n",
    "#conn.commit() \n",
    "# Function to update a record\n",
    "def update_record(oblea, direccionip, modeloid, ubicacionid, responsableequipo, ubicacioncompleta, gerenciasector):\n",
    "    with conn:\n",
    "        cursor.execute(\"UPDATE xrx_impresoras SET direccionip = :direccionip, modeloid = :modeloid, ubicacionid = :ubicacionid, responsableequipo = :responsableequipo, ubicacioncompleta = :ubicacioncompleta, gerenciasector = :gerenciasector WHERE oblea = :oblea\",\n",
    "                  {'oblea': oblea, 'direccionip': direccionip, 'modeloid': modeloid, 'ubicacionid': ubicacionid, 'responsableequipo': responsableequipo, 'ubicacioncompleta': ubicacioncompleta, 'gerenciasector': gerenciasector})\n",
    "\n"
   ]
  },
  {
   "cell_type": "code",
   "execution_count": null,
   "metadata": {},
   "outputs": [],
   "source": [
    "# INSERT \n",
    "# Function to insert records\n",
    "def insert_record(oblea, direccionip, modeloid, ubicacionid, responsableequipo, ubicacioncompleta, gerenciasector):\n",
    "    with conn:\n",
    "        cursor.execute(\"INSERT INTO xrx_impresoras VALUES (:oblea, :direccionip, :modeloid, :ubicacionid, :responsableequipo, :ubicacioncompleta, :gerenciasector)\",\n",
    "                  {'oblea': oblea, 'direccionip': direccionip, 'modeloid': modeloid, 'ubicacionid': ubicacionid, 'responsableequipo': responsableequipo, 'ubicacioncompleta': ubicacioncompleta, 'gerenciasector': gerenciasector})\n",
    "\n"
   ]
  },
  {
   "cell_type": "code",
   "execution_count": null,
   "metadata": {},
   "outputs": [],
   "source": [
    "# DELETE \n",
    "#cursor.execute(\"DELETE FROM XRX_Impresoras WHERE Oblea='12345'\") \n",
    "#conn.commit() \n",
    "# Function to delete a record\n",
    "def delete_record(oblea):\n",
    "    with conn:\n",
    "        cursor.execute(\"DELETE FROM xrx_impresoras WHERE oblea = :oblea\",\n",
    "                  {'oblea': oblea})\n"
   ]
  },
  {
   "cell_type": "code",
   "execution_count": null,
   "metadata": {},
   "outputs": [],
   "source": [
    "# Commit changes\n",
    "conn.commit()\n",
    "\n",
    "# Close connection\n",
    "conn.close()"
   ]
  }
 ],
 "metadata": {
  "kernelspec": {
   "display_name": "Impresoras",
   "language": "python",
   "name": "python3"
  },
  "language_info": {
   "codemirror_mode": {
    "name": "ipython",
    "version": 3
   },
   "file_extension": ".py",
   "mimetype": "text/x-python",
   "name": "python",
   "nbconvert_exporter": "python",
   "pygments_lexer": "ipython3",
   "version": "3.11.0"
  },
  "orig_nbformat": 4,
  "vscode": {
   "interpreter": {
    "hash": "4e1c03d5f54b943a5178bef337a4c20e02610b67b2df3f76d7dd19e73097993f"
   }
  }
 },
 "nbformat": 4,
 "nbformat_minor": 2
}
